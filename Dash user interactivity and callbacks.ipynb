{
 "cells": [
  {
   "cell_type": "code",
   "execution_count": 1,
   "id": "c075991a",
   "metadata": {},
   "outputs": [],
   "source": [
    "import pandas as pd\n",
    "import plotly.graph_objects as go\n",
    "import dash\n",
    "from dash import html\n",
    "from dash import dcc\n",
    "\n",
    "from dash.dependencies import Input, Output"
   ]
  },
  {
   "cell_type": "code",
   "execution_count": null,
   "id": "c9ceeafc",
   "metadata": {},
   "outputs": [],
   "source": [
    "\n",
    "# Read the airline data into pandas dataframe\n",
    "airline_data =  pd.read_csv('https://cf-courses-data.s3.us.cloud-object-storage.appdomain.cloud/IBMDeveloperSkillsNetwork-DV0101EN-SkillsNetwork/Data%20Files/airline_data.csv', \n",
    "                            encoding = \"ISO-8859-1\",\n",
    "                            dtype={'Div1Airport': str, 'Div1TailNum': str, \n",
    "                                   'Div2Airport': str, 'Div2TailNum': str})"
   ]
  },
  {
   "cell_type": "code",
   "execution_count": 2,
   "id": "32d282da",
   "metadata": {},
   "outputs": [],
   "source": [
    "# Create a dash application\n",
    "app = dash.Dash(__name__)\n",
    "\n",
    "# Get the layout of the application and adjust it.\n",
    "# Create an outer division using html.Div and add title to the dashboard using html.H1 component\n",
    "# Add a html.Div and core input text component\n",
    "# Finally, add graph component.\n",
    "\n",
    "# Create a dash application\n",
    "app = dash.Dash(__name__)\n",
    "                               \n",
    "app.layout = html.Div(children=[ html.H1('Airline Performance Dashboard', \n",
    "                                style={'textAlign': 'center', 'color': '#503D36',\n",
    "                                'font-size': 40}),\n",
    "                                html.Div([\"Input Year: \", dcc.Input(id='input-year', value='2010', \n",
    "                                type='number', style={'height':'50px', 'font-size': 35}),], \n",
    "                                style={'font-size': 40}),\n",
    "                                html.Br(),\n",
    "                                html.Br(),\n",
    "                                html.Div(dcc.Graph(id='line-plot')),\n",
    "                                ])\n",
    "\n",
    "\n"
   ]
  },
  {
   "cell_type": "code",
   "execution_count": null,
   "id": "9421c9d1",
   "metadata": {},
   "outputs": [
    {
     "name": "stdout",
     "output_type": "stream",
     "text": [
      "Dash is running on http://127.0.0.1:9999/\n",
      "\n",
      " * Serving Flask app \"__main__\" (lazy loading)\n",
      " * Environment: production\n",
      "\u001b[31m   WARNING: This is a development server. Do not use it in a production deployment.\u001b[0m\n",
      "\u001b[2m   Use a production WSGI server instead.\u001b[0m\n",
      " * Debug mode: off\n"
     ]
    },
    {
     "name": "stderr",
     "output_type": "stream",
     "text": [
      " * Running on http://127.0.0.1:9999/ (Press CTRL+C to quit)\n",
      "127.0.0.1 - - [20/Apr/2022 21:54:45] \"GET / HTTP/1.1\" 200 -\n",
      "127.0.0.1 - - [20/Apr/2022 21:54:46] \"GET /_dash-component-suites/dash/deps/polyfill@7.v2_3_1m1649794658.12.1.min.js HTTP/1.1\" 200 -\n",
      "127.0.0.1 - - [20/Apr/2022 21:54:46] \"GET /_dash-component-suites/dash/deps/react@16.v2_3_1m1649794658.14.0.min.js HTTP/1.1\" 200 -\n",
      "127.0.0.1 - - [20/Apr/2022 21:54:46] \"GET /_dash-component-suites/dash/deps/react-dom@16.v2_3_1m1649794658.14.0.min.js HTTP/1.1\" 200 -\n",
      "127.0.0.1 - - [20/Apr/2022 21:54:46] \"GET /_dash-component-suites/dash/dash-renderer/build/dash_renderer.v2_3_1m1649794658.min.js HTTP/1.1\" 200 -\n",
      "127.0.0.1 - - [20/Apr/2022 21:54:46] \"GET /_dash-component-suites/dash/deps/prop-types@15.v2_3_1m1649794658.7.2.min.js HTTP/1.1\" 200 -\n",
      "127.0.0.1 - - [20/Apr/2022 21:54:46] \"GET /_dash-component-suites/dash/dcc/dash_core_components.v2_3_0m1649794658.js HTTP/1.1\" 200 -\n",
      "127.0.0.1 - - [20/Apr/2022 21:54:46] \"GET /_dash-component-suites/dash/dcc/dash_core_components-shared.v2_3_0m1649794658.js HTTP/1.1\" 200 -\n",
      "127.0.0.1 - - [20/Apr/2022 21:54:46] \"GET /_dash-component-suites/dash/html/dash_html_components.v2_0_2m1649794658.min.js HTTP/1.1\" 200 -\n",
      "127.0.0.1 - - [20/Apr/2022 21:54:46] \"GET /_dash-component-suites/dash/dash_table/bundle.v5_1_1m1649794658.js HTTP/1.1\" 200 -\n",
      "127.0.0.1 - - [20/Apr/2022 21:54:46] \"GET /_dash-layout HTTP/1.1\" 200 -\n",
      "127.0.0.1 - - [20/Apr/2022 21:54:46] \"GET /_dash-dependencies HTTP/1.1\" 200 -\n",
      "127.0.0.1 - - [20/Apr/2022 21:54:46] \"GET /_dash-component-suites/dash/dcc/async-graph.js HTTP/1.1\" 200 -\n",
      "127.0.0.1 - - [20/Apr/2022 21:54:46] \"GET /_dash-component-suites/dash/dcc/async-plotlyjs.js HTTP/1.1\" 200 -\n",
      "127.0.0.1 - - [20/Apr/2022 21:54:46] \"GET /_favicon.ico?v=2.3.1 HTTP/1.1\" 200 -\n"
     ]
    }
   ],
   "source": [
    "\n",
    "# add callback decorator\n",
    "@app.callback( Output(component_id='line-plot', component_property='figure'),\n",
    "               Input(component_id='input-year', component_property='value'))\n",
    "\n",
    "# Add computation to callback function and return graph\n",
    "def get_graph(entered_year):\n",
    "    # Select 2019 data\n",
    "    df =  airline_data[airline_data['Year']==int(entered_year)]\n",
    "    \n",
    "    # Group the data by Month and compute average over arrival delay time.\n",
    "    line_data = df.groupby('Month')['ArrDelay'].mean().reset_index()\n",
    "\n",
    "    fig = go.Figure(data=go.Scatter(x=line_data['Month'], y=line_data['ArrDelay'], mode='lines', marker=dict(color='green')))\n",
    "    fig.update_layout(title='Month vs Average Flight Delay Time', xaxis_title='Month', yaxis_title='ArrDelay')\n",
    "    return fig\n",
    "\n",
    "# Run the app\n",
    "if __name__ == '__main__':\n",
    "    app.run_server()"
   ]
  }
 ],
 "metadata": {
  "kernelspec": {
   "display_name": "Python 3 (ipykernel)",
   "language": "python",
   "name": "python3"
  },
  "language_info": {
   "codemirror_mode": {
    "name": "ipython",
    "version": 3
   },
   "file_extension": ".py",
   "mimetype": "text/x-python",
   "name": "python",
   "nbconvert_exporter": "python",
   "pygments_lexer": "ipython3",
   "version": "3.9.7"
  }
 },
 "nbformat": 4,
 "nbformat_minor": 5
}
